{
 "cells": [
  {
   "cell_type": "code",
   "execution_count": 1,
   "id": "bf3aab1f-a200-43b7-b086-eaa2909e4de3",
   "metadata": {},
   "outputs": [],
   "source": [
    "from sklearn.datasets import make_blobs \n",
    "import numpy as np\n",
    "import matplotlib.pyplot as plt\n",
    "\n",
    "\n",
    "\n",
    "class CustomKNN:\n",
    "    \n",
    "    def __init__(self, k):\n",
    "        self.k = k\n",
    "        \n",
    "    def fit(self, X, y):\n",
    "        self.X = X\n",
    "        self.y = y\n",
    "        \n",
    "    def predict_point(self, point):\n",
    "        dist = np.power(self.X - point, 2).sum(axis=1)\n",
    "        closestk = np.argsort(dist)[:self.k]\n",
    "        votes = self.y[closestk]\n",
    "        uniques, freq = np.unique(votes, return_counts=True)\n",
    "        return uniques[freq.argmax()]\n",
    "        \n",
    "        \n",
    "    def predict(self, X):\n",
    "        \n",
    "        results = []\n",
    "        \n",
    "        for point in X:\n",
    "            results.append(self.predict_point(point))\n",
    "            \n",
    "        return np.array(results)\n",
    "    \n",
    "    \n",
    "    def score(self, X, y):\n",
    "        \n",
    "        yp = self.predict(X)\n",
    "        return (y==yp).mean()"
   ]
  },
  {
   "cell_type": "code",
   "execution_count": 2,
   "id": "3b0ecd99-fcb9-4474-8219-751136a58fdb",
   "metadata": {},
   "outputs": [],
   "source": [
    "import pandas as pd\n",
    "\n",
    "df = pd.read_csv(\"../datasets/Iris.csv\", index_col=0)"
   ]
  },
  {
   "cell_type": "code",
   "execution_count": 3,
   "id": "63d235d3-d388-40c4-bb77-d69f9d01e715",
   "metadata": {},
   "outputs": [],
   "source": [
    "\n",
    "data = df.values\n",
    "\n",
    "X = data[:, :4]\n",
    "y = data[:, 4]\n"
   ]
  },
  {
   "cell_type": "code",
   "execution_count": 4,
   "id": "97adf33b-01c5-4786-acc2-7a9b2b905507",
   "metadata": {},
   "outputs": [],
   "source": [
    "\n",
    "from sklearn.model_selection import train_test_split\n",
    "\n",
    "X_train, X_test, y_train, y_test = train_test_split(X, y, test_size=0.33, random_state=42)"
   ]
  },
  {
   "cell_type": "code",
   "execution_count": 5,
   "id": "29ef3a45-40d0-4cc3-b458-9bd3b56e2c44",
   "metadata": {},
   "outputs": [],
   "source": [
    "model = CustomKNN(5)"
   ]
  },
  {
   "cell_type": "code",
   "execution_count": 6,
   "id": "31c78a48-9590-465a-b473-66aa1c328855",
   "metadata": {},
   "outputs": [],
   "source": [
    "model.fit(X_train, y_train)\n"
   ]
  },
  {
   "cell_type": "code",
   "execution_count": 7,
   "id": "18e20bd2-6a63-43f7-a8a8-e051dd43d57a",
   "metadata": {},
   "outputs": [
    {
     "data": {
      "text/plain": [
       "array(['Iris-versicolor', 'Iris-setosa', 'Iris-virginica',\n",
       "       'Iris-versicolor', 'Iris-versicolor', 'Iris-setosa',\n",
       "       'Iris-versicolor', 'Iris-virginica', 'Iris-versicolor',\n",
       "       'Iris-versicolor', 'Iris-virginica', 'Iris-setosa', 'Iris-setosa',\n",
       "       'Iris-setosa', 'Iris-setosa', 'Iris-versicolor', 'Iris-virginica',\n",
       "       'Iris-versicolor', 'Iris-versicolor', 'Iris-virginica'],\n",
       "      dtype=object)"
      ]
     },
     "execution_count": 7,
     "metadata": {},
     "output_type": "execute_result"
    }
   ],
   "source": [
    "y_test[:20]\n"
   ]
  },
  {
   "cell_type": "code",
   "execution_count": 8,
   "id": "39b5ea7e-fcc2-437f-af74-ec8289ee5d9c",
   "metadata": {},
   "outputs": [
    {
     "data": {
      "text/plain": [
       "array(['Iris-versicolor', 'Iris-setosa', 'Iris-virginica',\n",
       "       'Iris-versicolor', 'Iris-versicolor', 'Iris-setosa',\n",
       "       'Iris-versicolor', 'Iris-virginica', 'Iris-versicolor',\n",
       "       'Iris-versicolor', 'Iris-virginica', 'Iris-setosa', 'Iris-setosa',\n",
       "       'Iris-setosa', 'Iris-setosa', 'Iris-versicolor', 'Iris-virginica',\n",
       "       'Iris-versicolor', 'Iris-versicolor', 'Iris-virginica'],\n",
       "      dtype='<U15')"
      ]
     },
     "execution_count": 8,
     "metadata": {},
     "output_type": "execute_result"
    }
   ],
   "source": [
    "model.predict(X_test[:20])\n"
   ]
  },
  {
   "cell_type": "code",
   "execution_count": 9,
   "id": "38eb8172-9663-4dfe-aed4-ec3d520466dc",
   "metadata": {},
   "outputs": [
    {
     "data": {
      "text/plain": [
       "0.98"
      ]
     },
     "execution_count": 9,
     "metadata": {},
     "output_type": "execute_result"
    }
   ],
   "source": [
    "model.score(X_test, y_test)\n"
   ]
  },
  {
   "cell_type": "code",
   "execution_count": null,
   "id": "d5e470c8-4b15-44dd-abb0-47572bfcd508",
   "metadata": {},
   "outputs": [],
   "source": []
  }
 ],
 "metadata": {
  "kernelspec": {
   "display_name": "Python 3",
   "language": "python",
   "name": "python3"
  },
  "language_info": {
   "codemirror_mode": {
    "name": "ipython",
    "version": 3
   },
   "file_extension": ".py",
   "mimetype": "text/x-python",
   "name": "python",
   "nbconvert_exporter": "python",
   "pygments_lexer": "ipython3",
   "version": "3.9.5"
  }
 },
 "nbformat": 4,
 "nbformat_minor": 5
}
